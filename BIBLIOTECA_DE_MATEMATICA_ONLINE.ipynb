{
  "nbformat": 4,
  "nbformat_minor": 0,
  "metadata": {
    "colab": {
      "provenance": [],
      "authorship_tag": "ABX9TyPoslDMbWp10FwR5peJn9Bl",
      "include_colab_link": true
    },
    "kernelspec": {
      "name": "python3",
      "display_name": "Python 3"
    },
    "language_info": {
      "name": "python"
    }
  },
  "cells": [
    {
      "cell_type": "markdown",
      "metadata": {
        "id": "view-in-github",
        "colab_type": "text"
      },
      "source": [
        "<a href=\"https://colab.research.google.com/github/EndreaS2/AULA-1/blob/main/BIBLIOTECA_DE_MATEMATICA_ONLINE.ipynb\" target=\"_parent\"><img src=\"https://colab.research.google.com/assets/colab-badge.svg\" alt=\"Open In Colab\"/></a>"
      ]
    },
    {
      "cell_type": "code",
      "execution_count": 1,
      "metadata": {
        "id": "lz-kHPLYjiWi",
        "colab": {
          "base_uri": "https://localhost:8080/"
        },
        "outputId": "7b4ecdf3-1158-44cd-c154-f2de9f8d1101"
      },
      "outputs": [
        {
          "output_type": "stream",
          "name": "stdout",
          "text": [
            "0\n",
            "1\n",
            "2\n",
            "3\n",
            "4\n",
            "5\n",
            "6\n",
            "7\n",
            "8\n",
            "9\n",
            "10\n",
            "2º maneira informando apenas INICIO, FIM\n",
            "0\n",
            "1\n",
            "2\n",
            "3\n",
            "4\n",
            "5\n",
            "6\n",
            "7\n",
            "8\n",
            "9\n",
            "10\n",
            "3\n"
          ]
        }
      ],
      "source": [
        "#para contar numeros\n",
        "#for VARIAVEL in range(INICIO, FIM, INCREMENTO)\n",
        "for i in range(0 ,11 ,1):\n",
        "  print(i)\n",
        "\n",
        "#2º Maneira informando apenas INICIO E FIM\n",
        "print(\"2º maneira informando apenas INICIO, FIM\")\n",
        "for i in range(0 ,11):\n",
        "  print(i)\n",
        "\n",
        "#3º Maneira informando apenas quantidade de número\n",
        "print(\"3\")"
      ]
    },
    {
      "cell_type": "markdown",
      "source": [
        "#PARA FAZER CONTAGEM COM INCREMENTO NÃO INTEIRO USO FUNÇÃO \"ARRANGE\" DA BIBLIOTECA \"NUMPY\""
      ],
      "metadata": {
        "id": "fR4FeRassi2_"
      }
    },
    {
      "cell_type": "code",
      "source": [
        "import numpy as np\n",
        "#import numpy\n",
        "#from numpy import\n",
        "#from numpy import arange\n",
        "np.arange(0 ,10 ,0.1)"
      ],
      "metadata": {
        "colab": {
          "base_uri": "https://localhost:8080/"
        },
        "id": "k-e9mzIEs9-q",
        "outputId": "f96167f0-32f6-4282-ac6f-b4f240e31514"
      },
      "execution_count": 2,
      "outputs": [
        {
          "output_type": "execute_result",
          "data": {
            "text/plain": [
              "array([0. , 0.1, 0.2, 0.3, 0.4, 0.5, 0.6, 0.7, 0.8, 0.9, 1. , 1.1, 1.2,\n",
              "       1.3, 1.4, 1.5, 1.6, 1.7, 1.8, 1.9, 2. , 2.1, 2.2, 2.3, 2.4, 2.5,\n",
              "       2.6, 2.7, 2.8, 2.9, 3. , 3.1, 3.2, 3.3, 3.4, 3.5, 3.6, 3.7, 3.8,\n",
              "       3.9, 4. , 4.1, 4.2, 4.3, 4.4, 4.5, 4.6, 4.7, 4.8, 4.9, 5. , 5.1,\n",
              "       5.2, 5.3, 5.4, 5.5, 5.6, 5.7, 5.8, 5.9, 6. , 6.1, 6.2, 6.3, 6.4,\n",
              "       6.5, 6.6, 6.7, 6.8, 6.9, 7. , 7.1, 7.2, 7.3, 7.4, 7.5, 7.6, 7.7,\n",
              "       7.8, 7.9, 8. , 8.1, 8.2, 8.3, 8.4, 8.5, 8.6, 8.7, 8.8, 8.9, 9. ,\n",
              "       9.1, 9.2, 9.3, 9.4, 9.5, 9.6, 9.7, 9.8, 9.9])"
            ]
          },
          "metadata": {},
          "execution_count": 2
        }
      ]
    },
    {
      "cell_type": "markdown",
      "source": [
        "#WHILE"
      ],
      "metadata": {
        "id": "fkdfVbTBu5WV"
      }
    },
    {
      "cell_type": "code",
      "source": [
        "#aprendi que para contar numeros usando FOR fazia\n",
        "#for VARIAVEL in range(INICIO, FIM, INCREMENTO)\n",
        "#Mas para usar WHILE eu terei que fazer\n",
        "\n",
        "#INICIO\n",
        "#CONDIÇÃO?\n",
        "#INTRUÇÃO\n",
        "#INCREMENTO\n",
        "\n",
        "#CONTADOR USANDO FOR\n",
        "#for i in range (0, 11, 1):\n",
        "  #print\n",
        "\n",
        "i=0\n",
        "while i<=10:\n",
        "  print(i)\n",
        "  i+=1"
      ],
      "metadata": {
        "colab": {
          "base_uri": "https://localhost:8080/"
        },
        "id": "gElQfR-Cu8L6",
        "outputId": "ee40b468-3478-4550-ec15-2002e92a4991"
      },
      "execution_count": 7,
      "outputs": [
        {
          "output_type": "stream",
          "name": "stdout",
          "text": [
            "0\n",
            "1\n",
            "2\n",
            "3\n",
            "4\n",
            "5\n",
            "6\n",
            "7\n",
            "8\n",
            "9\n",
            "10\n"
          ]
        }
      ]
    },
    {
      "cell_type": "markdown",
      "source": [
        "#POSSO USAR O \"WHILE\" PARA VERIFICAR RESPOSTA E RODAR O PROGRAMA ENQUANTO A RESPOSTA FOR \"SIM\""
      ],
      "metadata": {
        "id": "Tb34T_WVxH3j"
      }
    },
    {
      "cell_type": "code",
      "source": [
        "while True:\n",
        "  resposta = input(\"Deseja realizar a soma de 2 variáveis? (S/N): \").strip().upper()\n",
        "  if resposta == 'S':\n",
        "    var1 = float(input(\"Digite o valor da primeira variável: \"))\n",
        "    var2 = float(input(\"Digite o valor da segunda variável: \"))\n",
        "    soma = var1 + var2\n",
        "    print(f\"A soma de {var1} e {var2} é: {soma:.2f}\\n\")\n",
        "  elif resposta == 'N':\n",
        "    print(\"Operação finalizada.\")\n",
        "    break\n",
        "  else:\n",
        "    print(\"Resposta inválida! Por favor, digite 'S' para Sim ou 'N' para Não.\\n\")"
      ],
      "metadata": {
        "colab": {
          "base_uri": "https://localhost:8080/"
        },
        "id": "ZAFc8oeHxZ9c",
        "outputId": "ce20a7fc-21a3-46aa-acb0-8ed6f08a70d3"
      },
      "execution_count": 10,
      "outputs": [
        {
          "output_type": "stream",
          "name": "stdout",
          "text": [
            "Deseja realizar a soma de 2 variáveis? (S/N): S\n",
            "Digite o valor da primeira variável: 58\n",
            "Digite o valor da segunda variável: 2\n",
            "A soma de 58.0 e 2.0 é: 60.00\n",
            "\n",
            "Deseja realizar a soma de 2 variáveis? (S/N): N\n",
            "Operação finalizada.\n"
          ]
        }
      ]
    },
    {
      "cell_type": "markdown",
      "source": [
        "#PROGRAMA \"WHILE\" SEGUNDA VARIAÇÃO"
      ],
      "metadata": {
        "id": "ji6xcaAJ2Ron"
      }
    },
    {
      "cell_type": "code",
      "source": [
        "while True:\n",
        "  resposta = input(\"Deseja realizar uma soma? (sim/não): \").lower()\n",
        "  if resposta == \"sim\":\n",
        "    num1 = float(input(\"Digite o primeiro número: \"))\n",
        "    num2 = float(input(\"Digite o segundo número: \"))\n",
        "    soma = num1 + num2\n",
        "    print(\"A soma é:\", soma)\n",
        "  else:\n",
        "    print(\"Encerrando o programa.\")\n",
        "    break"
      ],
      "metadata": {
        "colab": {
          "base_uri": "https://localhost:8080/"
        },
        "id": "-KR5HiX42X41",
        "outputId": "e63ccbdb-aa32-4962-bf76-70a9695f1588"
      },
      "execution_count": 11,
      "outputs": [
        {
          "output_type": "stream",
          "name": "stdout",
          "text": [
            "Deseja realizar uma soma? (sim/não): sim\n",
            "Digite o primeiro número: 55\n",
            "Digite o segundo número: 5\n",
            "A soma é: 60.0\n",
            "Deseja realizar uma soma? (sim/não): não\n",
            "Encerrando o programa.\n"
          ]
        }
      ]
    }
  ]
}