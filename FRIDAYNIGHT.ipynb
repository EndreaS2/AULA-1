{
  "nbformat": 4,
  "nbformat_minor": 0,
  "metadata": {
    "colab": {
      "provenance": [],
      "authorship_tag": "ABX9TyPS9XugxaN1/V/iJsyN+YZy",
      "include_colab_link": true
    },
    "kernelspec": {
      "name": "python3",
      "display_name": "Python 3"
    },
    "language_info": {
      "name": "python"
    }
  },
  "cells": [
    {
      "cell_type": "markdown",
      "metadata": {
        "id": "view-in-github",
        "colab_type": "text"
      },
      "source": [
        "<a href=\"https://colab.research.google.com/github/EndreaS2/AULA-1/blob/main/FRIDAYNIGHT.ipynb\" target=\"_parent\"><img src=\"https://colab.research.google.com/assets/colab-badge.svg\" alt=\"Open In Colab\"/></a>"
      ]
    },
    {
      "cell_type": "markdown",
      "source": [
        "#INFORME UM VALOR INTEIRO E VEJA SE É MULTIPLO DE 3.\n"
      ],
      "metadata": {
        "id": "KlQEHs4fjoiV"
      }
    },
    {
      "cell_type": "code",
      "execution_count": 3,
      "metadata": {
        "colab": {
          "base_uri": "https://localhost:8080/"
        },
        "id": "bQkYMiD-gukA",
        "outputId": "699c42e2-4bcf-4bb4-dd2f-87e6254a3ea6"
      },
      "outputs": [
        {
          "output_type": "stream",
          "name": "stdout",
          "text": [
            "Digite um valor inteiro: 9\n",
            "O valor 9 é multiplo de 3.\n"
          ]
        }
      ],
      "source": [
        "valor = int(input(\"Digite um valor inteiro: \"))\n",
        "if valor % 3 == 0:\n",
        "    print(f\"O valor {valor} é multiplo de 3.\")\n",
        "else:\n",
        "    print(f\"O valor {valor} não é multiplo de 3.\")"
      ]
    },
    {
      "cell_type": "markdown",
      "source": [
        "#  Dadas as notas a e b de um aluno, com pesos\n",
        "respectivamente 2 e 3; pede-se elaborar um programa em Python para calcular e exibir\n",
        "a média ponderada do aluno, verificar e informar, junto ao valor da sua média, se foi\n",
        "aprovado ou não (OBS: Considere aprovado se obtiver média igual ou superior a 5)."
      ],
      "metadata": {
        "id": "nvPEFYKEvclw"
      }
    },
    {
      "cell_type": "code",
      "source": [
        "n1 = float(input(\"Digite a nota A: \"))\n",
        "n2 = float(input(\"Digite a nota B: \"))\n",
        "media = (2* n1 + 3* n2)/(2+3)\n",
        "if media >= 5:\n",
        "  print(\"Aprovado.\")\n",
        "else:\n",
        "  print(\"Reprovado\")"
      ],
      "metadata": {
        "colab": {
          "base_uri": "https://localhost:8080/"
        },
        "id": "JqvszKVLq5FI",
        "outputId": "6e1daa4f-e1d1-44c3-b5c0-5a43c7bbf144"
      },
      "execution_count": 10,
      "outputs": [
        {
          "output_type": "stream",
          "name": "stdout",
          "text": [
            "Digite a nota A: 6\n",
            "Digite a nota B: 8\n",
            "Aprovado.\n"
          ]
        }
      ]
    },
    {
      "cell_type": "code",
      "source": [
        "def calcular_media_ponderada(a, b):\n",
        "    peso_a = 2\n",
        "    peso_b = 3\n",
        "    media = (a * peso_a + b * peso_b) / (peso_a + peso_b)\n",
        "    return media\n",
        "\n",
        "a = float(input(\"Digite a nota a: \"))\n",
        "b = float(input(\"Digite a nota b: \"))\n",
        "\n",
        "media = calcular_media_ponderada(a, b)\n",
        "\n",
        "if media >= 5:\n",
        "    resultado = \"Aprovado\"\n",
        "else:\n",
        "    resultado = \"Reprovado\"\n",
        "\n",
        "print(f\"Média Ponderada: {media:.2f} - Status: {resultado}\")"
      ],
      "metadata": {
        "id": "3OkS-mQ4u-ds"
      },
      "execution_count": null,
      "outputs": []
    },
    {
      "cell_type": "markdown",
      "source": [
        "# Dado o algoritmo a seguir, elabore o código python do programa em questão:\n",
        "Início\n",
        "Leia os três valores: a, b e c.\n",
        "Compare os valores:\n",
        "Se a é menor ou igual a b e a é menor ou igual a c, então\n",
        "a é o menor valor.\n",
        "Caso contrário, se b é menor ou igual a a e b é menor ou igual a c, então\n",
        "b é o menor valor.\n",
        "Caso contrário,\n",
        "c é o menor valor.\n",
        "Exiba o menor valor.\n",
        "Fim\n",
        "\n"
      ],
      "metadata": {
        "id": "-7OmSWjMvNVy"
      }
    },
    {
      "cell_type": "code",
      "source": [
        "a = float(input(\"Digite o valor a: \"))\n",
        "b = float(input(\"Digite o valor b: \"))\n",
        "c = float(input(\"Digite o valor c: \"))\n",
        "\n",
        "if a <= b and a <= c:\n",
        "    menor = a\n",
        "elif b <= a and b <= c:\n",
        "    menor = b\n",
        "else:\n",
        "    menor = c\n",
        "\n",
        "print(f\"O menor valor é: {menor}\")"
      ],
      "metadata": {
        "colab": {
          "base_uri": "https://localhost:8080/"
        },
        "id": "_78H2-metTx6",
        "outputId": "d285375c-3744-4f5b-c5da-e7757faf62f4"
      },
      "execution_count": 11,
      "outputs": [
        {
          "output_type": "stream",
          "name": "stdout",
          "text": [
            "Digite o valor a: 5\n",
            "Digite o valor b: 2\n",
            "Digite o valor c: 8\n",
            "O menor valor é: 2.0\n"
          ]
        }
      ]
    },
    {
      "cell_type": "markdown",
      "source": [],
      "metadata": {
        "id": "4U1HndX6lArg"
      }
    },
    {
      "cell_type": "markdown",
      "source": [
        "#EXPLICAÇÃO SOBRE LOOPING FOR"
      ],
      "metadata": {
        "id": "v1Tt2HwWysIZ"
      }
    },
    {
      "cell_type": "code",
      "source": [
        "#Para contar e exibir 10 valores de 0 até 9 contando de 1 em 1\n",
        "for MSK in range(10):\n",
        "  print(MSK)"
      ],
      "metadata": {
        "colab": {
          "base_uri": "https://localhost:8080/"
        },
        "id": "lKK1G_wyywRT",
        "outputId": "2a26cdc7-b6fc-4c92-8619-fdd9ad6cc2ee"
      },
      "execution_count": 12,
      "outputs": [
        {
          "output_type": "stream",
          "name": "stdout",
          "text": [
            "0\n",
            "1\n",
            "2\n",
            "3\n",
            "4\n",
            "5\n",
            "6\n",
            "7\n",
            "8\n",
            "9\n"
          ]
        }
      ]
    },
    {
      "cell_type": "code",
      "source": [
        "#Para contar a partir do 20 até 30 contando de 2 em 2\n",
        "#for NOME_DA_VARIAVEL in RANGE(INICIO, FIM, INCREMENTO)\n",
        "for i in range(207, 307, 9):\n",
        "  print(i)"
      ],
      "metadata": {
        "colab": {
          "base_uri": "https://localhost:8080/"
        },
        "id": "hy5yFFUDzOZB",
        "outputId": "2f564bdb-4560-482c-a131-d17d70c07d02"
      },
      "execution_count": 15,
      "outputs": [
        {
          "output_type": "stream",
          "name": "stdout",
          "text": [
            "207\n",
            "216\n",
            "225\n",
            "234\n",
            "243\n",
            "252\n",
            "261\n",
            "270\n",
            "279\n",
            "288\n",
            "297\n",
            "306\n"
          ]
        }
      ]
    }
  ]
}